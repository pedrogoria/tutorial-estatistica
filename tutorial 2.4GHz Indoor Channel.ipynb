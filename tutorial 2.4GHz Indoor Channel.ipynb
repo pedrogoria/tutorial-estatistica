{
 "cells": [
  {
   "cell_type": "code",
   "execution_count": 1,
   "metadata": {},
   "outputs": [],
   "source": [
    "import numpy as np\n",
    "import matplotlib.pyplot as plt\n",
    "import pandas as pd"
   ]
  },
  {
   "cell_type": "markdown",
   "metadata": {},
   "source": [
    "# Importando os dados e criando um unico arquivo com a média das 10 medidas e todas as posições"
   ]
  },
  {
   "cell_type": "code",
   "execution_count": 2,
   "metadata": {},
   "outputs": [],
   "source": [
    "# caminho dos dados\n",
    "path = 'C:/Users/pedro/Downloads/Measurements_Upload_Smaller/Measurements_Upload'\n",
    "corridor_path = path + '/Corridor_rm155_7.1'\n",
    "lab_path = path + '/Lab139_7.1'\n",
    "lobby_path = path + '/Main_Lobby_7.1'\n",
    "hall_path = path + '/Sport_Hall_7.1'\n",
    "loc = '/Loc_'"
   ]
  },
  {
   "cell_type": "code",
   "execution_count": null,
   "metadata": {},
   "outputs": [],
   "source": [
    "dataframe = pd.DataFrame()\n",
    "\n",
    "for py in range(14):\n",
    "    for px in range(14):\n",
    "        # importando e nomeando as colunas\n",
    "        df = pd.read_csv(corridor_path+loc+str(py).zfill(2)+str(px).zfill(2)+'/Lab_139_1Ch1.csv', skiprows=3, index_col=0, \n",
    "                         sep=';',usecols=[0,1,2,3,4],\n",
    "                         names=['freq', 're_S11', 'im_S11', 're_S21', 'im_S21'])\n",
    "        for ch in range(2,11):\n",
    "            # importando e nomeando as colunas\n",
    "            df = pd.read_csv(corridor_path+loc+str(py).zfill(2)+str(px).zfill(2)+'/Lab_139_'+str(ch)+'Ch1.csv', \n",
    "                             skiprows=3, index_col=0, sep=';', usecols=[0,1,2,3,4],\n",
    "                             names=['freq', 're_S11', 'im_S11', 're_S21', 'im_S21']) + df\n",
    "\n",
    "        # média sobre as 10 amostras\n",
    "        df = df/10\n",
    "        \n",
    "        dataframe = pd.concat([dataframe, df.add_prefix('Loc_'+str(py).zfill(2)+str(px).zfill(2)+'_')],axis=1)\n",
    "\n",
    "dataframe.to_csv(corridor_path+'/corridor_data.csv',sep=';')\n",
    "\n",
    "#\n",
    "dataframe = pd.DataFrame()\n",
    "\n",
    "for py in range(14):\n",
    "    for px in range(14):\n",
    "        # importando e nomeando as colunas\n",
    "        df = pd.read_csv(lab_path+loc+str(py).zfill(2)+str(px).zfill(2)+'/Lab_139_1Ch1.csv', skiprows=3, index_col=0, \n",
    "                         sep=';',usecols=[0,1,2,3,4],names=['freq', 're_S11', 'im_S11', 're_S21', 'im_S21'])\n",
    "        for ch in range(2,11):\n",
    "            # importando e nomeando as colunas\n",
    "            df = pd.read_csv(lab_path+loc+str(py).zfill(2)+str(px).zfill(2)+'/Lab_139_'+str(ch)+'Ch1.csv', skiprows=3, \n",
    "                             index_col=0, sep=';',usecols=[0,1,2,3,4], \n",
    "                             names=['freq', 're_S11', 'im_S11', 're_S21', 'im_S21']) + df\n",
    "\n",
    "        # média sobre as 10 amostras\n",
    "        df = df/10\n",
    "        \n",
    "        dataframe = pd.concat([dataframe, df.add_prefix('Loc_'+str(py).zfill(2)+str(px).zfill(2)+'_')],axis=1)\n",
    "\n",
    "dataframe.to_csv(lab_path+'/lab_data.csv',sep=';')\n",
    "\n",
    "dataframe = pd.DataFrame()\n",
    "\n",
    "for py in range(14):\n",
    "    for px in range(14):\n",
    "        # importando e nomeando as colunas\n",
    "        df = pd.read_csv(lobby_path+loc+str(py).zfill(2)+str(px).zfill(2)+'/Lab_139_1Ch1.csv', skiprows=3, index_col=0, \n",
    "                         sep=';',usecols=[0,1,2,3,4], names=['freq', 're_S11', 'im_S11', 're_S21', 'im_S21'])\n",
    "        for ch in range(2,11):\n",
    "            # importando e nomeando as colunas\n",
    "            df = pd.read_csv(lobby_path+loc+str(py).zfill(2)+str(px).zfill(2)+'/Lab_139_'+str(ch)+'Ch1.csv', skiprows=3, \n",
    "                             index_col=0, sep=';', usecols=[0,1,2,3,4], \n",
    "                             names=['freq', 're_S11', 'im_S11', 're_S21', 'im_S21']) + df\n",
    "\n",
    "        # média sobre as 10 amostras\n",
    "        df = df/10\n",
    "        \n",
    "        dataframe = pd.concat([dataframe, df.add_prefix('Loc_'+str(py).zfill(2)+str(px).zfill(2)+'_')],axis=1)\n",
    "\n",
    "dataframe.to_csv(lobby_path+'/lobby_data.csv',sep=';')\n",
    "\n",
    "dataframe = pd.DataFrame()\n",
    "\n",
    "for py in range(14):\n",
    "    for px in range(14):\n",
    "        # importando e nomeando as colunas\n",
    "        df = pd.read_csv(hall_path+loc+str(py).zfill(2)+str(px).zfill(2)+'/Lab_139_1Ch1.csv', skiprows=3, index_col=0, \n",
    "                         sep=';', usecols=[0,1,2,3,4], names=['freq', 're_S11', 'im_S11', 're_S21', 'im_S21'])\n",
    "        for ch in range(2,11):\n",
    "            # importando e nomeando as colunas\n",
    "            df = pd.read_csv(hall_path+loc+str(py).zfill(2)+str(px).zfill(2)+'/Lab_139_'+str(ch)+'Ch1.csv', skiprows=3, \n",
    "                             index_col=0, sep=';', usecols=[0,1,2,3,4], \n",
    "                             names=['freq', 're_S11', 'im_S11', 're_S21', 'im_S21']) + df\n",
    "\n",
    "        # média sobre as 10 amostras\n",
    "        df = df/10\n",
    "        \n",
    "        dataframe = pd.concat([dataframe, df.add_prefix('Loc_'+str(py).zfill(2)+str(px).zfill(2)+'_')],axis=1)\n",
    "\n",
    "dataframe.to_csv(hall_path+'/hall_data.csv',sep=';')"
   ]
  }
 ],
 "metadata": {
  "kernelspec": {
   "display_name": "Python 3 (PED_est)",
   "language": "python",
   "name": "ped_estatistica"
  },
  "language_info": {
   "codemirror_mode": {
    "name": "ipython",
    "version": 3
   },
   "file_extension": ".py",
   "mimetype": "text/x-python",
   "name": "python",
   "nbconvert_exporter": "python",
   "pygments_lexer": "ipython3",
   "version": "3.7.9"
  }
 },
 "nbformat": 4,
 "nbformat_minor": 4
}
